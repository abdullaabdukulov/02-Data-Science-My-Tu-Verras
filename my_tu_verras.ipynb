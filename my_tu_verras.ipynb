{
 "cells": [
  {
   "cell_type": "code",
   "execution_count": null,
   "id": "223b0060",
   "metadata": {},
   "outputs": [],
   "source": [
    "import pandas as pd\n",
    "import matplotlib.pyplot as plt\n",
    "import numpy as np\n",
    "import seaborn as sns\n",
    "from sklearn.linear_model import LinearRegression\n",
    "from sklearn.metrics import mean_squared_error, mean_absolute_error, r2_score\n",
    "from sklearn.model_selection import train_test_split\n",
    "def load_dataset():\n",
    "    df = pd.read_csv(\"https://storage.googleapis.com/qwasar-public/track-ds/boston.csv\")\n",
    "    return df\n",
    "boston_dataframe = load_dataset()"
   ]
  },
  {
   "cell_type": "code",
   "execution_count": 9,
   "id": "7664da14",
   "metadata": {},
   "outputs": [],
   "source": [
    "def print_summarize_dataset(dataset):\n",
    "    print(\"Dataset dimension\")\n",
    "    print(f\"{dataset.shape}\\n\")\n",
    "    print(\"First 10 rows of dataset:\")\n",
    "    print(f\"{dataset.head(10)}\\n\")\n",
    "    print(\"Statistical summary:\")\n",
    "    print(f\"{dataset.describe()}\\n\")      \n",
    "# print_summarize_dataset(boston_dataframe)"
   ]
  },
  {
   "cell_type": "code",
   "execution_count": 10,
   "id": "488f152b",
   "metadata": {},
   "outputs": [],
   "source": [
    "def clean_dataset(boston_dataframe):\n",
    "    bs_data = boston_dataframe.dropna()\n",
    "    return bs_data\n",
    "# clean_dataset(boston_dataframe)"
   ]
  },
  {
   "cell_type": "code",
   "execution_count": 11,
   "id": "3f90ab86",
   "metadata": {},
   "outputs": [],
   "source": [
    "def print_histograms(boston_dataframe):\n",
    "    bs_columns = boston_dataframe.columns.values\n",
    "    plt.figure(figsize=(40, 20))\n",
    "    for i in range(len(bs_columns)):\n",
    "        plt.subplot(2, 7, i+1)\n",
    "        plt.hist(boston_dataframe.get(bs_columns[i]))\n",
    "        plt.title(bs_columns[i])\n",
    "    plt.show()\n",
    "# print_histograms(boston_dataframe)"
   ]
  },
  {
   "cell_type": "code",
   "execution_count": 12,
   "id": "d011b1d6",
   "metadata": {},
   "outputs": [],
   "source": [
    "def compute_correlations_matrix(boston_dataframe):\n",
    "    all = boston_dataframe.corr()\n",
    "    return all\n",
    "correlations = compute_correlations_matrix(boston_dataframe)\n",
    "\n",
    "# print(correlations)"
   ]
  },
  {
   "cell_type": "code",
   "execution_count": 13,
   "id": "6cf74ddd",
   "metadata": {},
   "outputs": [],
   "source": [
    "def print_scatter_matrix(boston_dataframe):\n",
    "    sns.pairplot(boston_dataframe)\n",
    "\n",
    "# print_scatter_matrix(boston_dataframe)"
   ]
  },
  {
   "cell_type": "code",
   "execution_count": 14,
   "id": "1071146e",
   "metadata": {},
   "outputs": [],
   "source": [
    "def print_scatter_matrix_corr(correlations):\n",
    "    sns.set(rc = {'figure.figsize':(20,10)})\n",
    "    sns.heatmap(correlations, annot=True, cmap=\"YlGnBu\")\n",
    "# print_scatter_matrix_corr(correlations)"
   ]
  },
  {
   "cell_type": "code",
   "execution_count": 15,
   "id": "23dce234",
   "metadata": {},
   "outputs": [],
   "source": [
    "def plot_data(boston_dataframe):\n",
    "    columns = [\"LSTAT\", \"AGE\", \"CRIM\"]\n",
    "    y = boston_dataframe.get(\"MDEV\").values\n",
    "    x = boston_dataframe[columns]\n",
    "    for i in range(len(columns)):\n",
    "        plt.subplot(1, 3, i+1)\n",
    "        plt.scatter(x.iloc[:, i].values, y)\n",
    "        plt.xlabel(columns[i])\n",
    "        plt.ylabel(\"MDEV\")\n",
    "    plt.show()\n",
    "# plot_data(boston_dataframe)"
   ]
  },
  {
   "cell_type": "code",
   "execution_count": 16,
   "id": "c27744e7",
   "metadata": {},
   "outputs": [],
   "source": [
    "def boston_fit_model(boston_dataframe):\n",
    "    regressor = LinearRegression()\n",
    "    x = np.array(boston_dataframe.get(\"RM\").values)\n",
    "    y = np.array(boston_dataframe.get(\"MDEV\").values)\n",
    "    X_train, X_test, y_train, y_test = train_test_split(x, y, test_size=0.2, random_state=10)\n",
    "    regressor.fit(np.array(X_train).reshape(-1, 1), np.array(y_train).reshape(-1, 1))\n",
    "    return regressor\n",
    "# boston_fit_model(boston_dataframe)"
   ]
  },
  {
   "cell_type": "code",
   "execution_count": 17,
   "id": "4a5074a5",
   "metadata": {},
   "outputs": [],
   "source": [
    "def boston_predict(estimator, array_to_predict):\n",
    "    return estimator.predict(np.array(array_to_predict).reshape(-1, 1))\n",
    "data = [1, 2, 3]\n",
    "estimator = boston_fit_model(boston_dataframe)\n",
    "# print(boston_predict(estimator, data))"
   ]
  },
  {
   "cell_type": "code",
   "execution_count": 18,
   "id": "54759c31",
   "metadata": {},
   "outputs": [],
   "source": [
    "def print_model_prediction_evaluator(base_test, prediction):\n",
    "  print('Mean Absolute Error:', metrics.mean_absolute_error(base_test, prediction))\n",
    "  print('Mean Squared Error:', metrics.mean_squared_error(base_test, prediction))\n",
    "  print('Root Mean Squared Error:', np.sqrt(metrics.mean_squared_error(base_test, prediction)))"
   ]
  },
  {
   "cell_type": "code",
   "execution_count": null,
   "id": "22faa599",
   "metadata": {},
   "outputs": [],
   "source": []
  }
 ],
 "metadata": {
  "kernelspec": {
   "display_name": "Python 3",
   "language": "python",
   "name": "python3"
  },
  "language_info": {
   "codemirror_mode": {
    "name": "ipython",
    "version": 3
   },
   "file_extension": ".py",
   "mimetype": "text/x-python",
   "name": "python",
   "nbconvert_exporter": "python",
   "pygments_lexer": "ipython3",
   "version": "3.6.7"
  }
 },
 "nbformat": 4,
 "nbformat_minor": 5
}
